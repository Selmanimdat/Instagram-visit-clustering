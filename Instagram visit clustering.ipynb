{
 "cells": [
  {
   "cell_type": "markdown",
   "metadata": {},
   "source": [
    "# Instagram visit clustering"
   ]
  },
  {
   "cell_type": "code",
   "execution_count": 1,
   "metadata": {
    "execution": {
     "iopub.execute_input": "2023-12-19T10:21:57.967847Z",
     "iopub.status.busy": "2023-12-19T10:21:57.966637Z",
     "iopub.status.idle": "2023-12-19T10:21:57.998037Z",
     "shell.execute_reply": "2023-12-19T10:21:57.996837Z",
     "shell.execute_reply.started": "2023-12-19T10:21:57.967789Z"
    }
   },
   "outputs": [],
   "source": [
    "# Instagram visit clustering project"
   ]
  },
  {
   "cell_type": "code",
   "execution_count": 4,
   "metadata": {
    "execution": {
     "iopub.execute_input": "2023-12-19T10:24:25.724817Z",
     "iopub.status.busy": "2023-12-19T10:24:25.723941Z",
     "iopub.status.idle": "2023-12-19T10:24:25.730734Z",
     "shell.execute_reply": "2023-12-19T10:24:25.729728Z",
     "shell.execute_reply.started": "2023-12-19T10:24:25.724711Z"
    }
   },
   "outputs": [],
   "source": [
    "#!pip install pycaret"
   ]
  },
  {
   "cell_type": "code",
   "execution_count": 5,
   "metadata": {
    "execution": {
     "iopub.execute_input": "2023-12-19T10:24:27.782174Z",
     "iopub.status.busy": "2023-12-19T10:24:27.781697Z",
     "iopub.status.idle": "2023-12-19T10:24:33.037112Z",
     "shell.execute_reply": "2023-12-19T10:24:33.035762Z",
     "shell.execute_reply.started": "2023-12-19T10:24:27.782135Z"
    }
   },
   "outputs": [],
   "source": [
    "#libraries\n",
    "import pandas as pd\n",
    "from pycaret.clustering import*"
   ]
  },
  {
   "cell_type": "code",
   "execution_count": 6,
   "metadata": {
    "execution": {
     "iopub.execute_input": "2023-12-19T10:25:08.034072Z",
     "iopub.status.busy": "2023-12-19T10:25:08.033611Z",
     "iopub.status.idle": "2023-12-19T10:25:08.056803Z",
     "shell.execute_reply": "2023-12-19T10:25:08.055569Z",
     "shell.execute_reply.started": "2023-12-19T10:25:08.034035Z"
    }
   },
   "outputs": [],
   "source": [
    "#read data\n",
    "df=pd.read_csv(\"/kaggle/input/instagram-visit-clustering/Instagram visits clustering.csv\")"
   ]
  },
  {
   "cell_type": "code",
   "execution_count": 7,
   "metadata": {
    "execution": {
     "iopub.execute_input": "2023-12-19T10:25:18.087699Z",
     "iopub.status.busy": "2023-12-19T10:25:18.087172Z",
     "iopub.status.idle": "2023-12-19T10:25:18.114453Z",
     "shell.execute_reply": "2023-12-19T10:25:18.113108Z",
     "shell.execute_reply.started": "2023-12-19T10:25:18.087655Z"
    }
   },
   "outputs": [
    {
     "data": {
      "text/html": [
       "<div>\n",
       "<style scoped>\n",
       "    .dataframe tbody tr th:only-of-type {\n",
       "        vertical-align: middle;\n",
       "    }\n",
       "\n",
       "    .dataframe tbody tr th {\n",
       "        vertical-align: top;\n",
       "    }\n",
       "\n",
       "    .dataframe thead th {\n",
       "        text-align: right;\n",
       "    }\n",
       "</style>\n",
       "<table border=\"1\" class=\"dataframe\">\n",
       "  <thead>\n",
       "    <tr style=\"text-align: right;\">\n",
       "      <th></th>\n",
       "      <th>User ID</th>\n",
       "      <th>Instagram visit score</th>\n",
       "      <th>Spending_rank(0 to 100)</th>\n",
       "    </tr>\n",
       "  </thead>\n",
       "  <tbody>\n",
       "    <tr>\n",
       "      <th>0</th>\n",
       "      <td>0</td>\n",
       "      <td>63</td>\n",
       "      <td>24.050708</td>\n",
       "    </tr>\n",
       "    <tr>\n",
       "      <th>1</th>\n",
       "      <td>1</td>\n",
       "      <td>61</td>\n",
       "      <td>25.223290</td>\n",
       "    </tr>\n",
       "    <tr>\n",
       "      <th>2</th>\n",
       "      <td>2</td>\n",
       "      <td>104</td>\n",
       "      <td>18.528245</td>\n",
       "    </tr>\n",
       "    <tr>\n",
       "      <th>3</th>\n",
       "      <td>3</td>\n",
       "      <td>82</td>\n",
       "      <td>86.890232</td>\n",
       "    </tr>\n",
       "    <tr>\n",
       "      <th>4</th>\n",
       "      <td>4</td>\n",
       "      <td>14</td>\n",
       "      <td>31.492397</td>\n",
       "    </tr>\n",
       "  </tbody>\n",
       "</table>\n",
       "</div>"
      ],
      "text/plain": [
       "   User ID  Instagram visit score  Spending_rank(0 to 100)\n",
       "0        0                     63                24.050708\n",
       "1        1                     61                25.223290\n",
       "2        2                    104                18.528245\n",
       "3        3                     82                86.890232\n",
       "4        4                     14                31.492397"
      ]
     },
     "execution_count": 7,
     "metadata": {},
     "output_type": "execute_result"
    }
   ],
   "source": [
    "#EDA\n",
    "df.head()"
   ]
  },
  {
   "cell_type": "code",
   "execution_count": 8,
   "metadata": {
    "execution": {
     "iopub.execute_input": "2023-12-19T10:25:46.449884Z",
     "iopub.status.busy": "2023-12-19T10:25:46.449457Z",
     "iopub.status.idle": "2023-12-19T10:25:46.462382Z",
     "shell.execute_reply": "2023-12-19T10:25:46.461147Z",
     "shell.execute_reply.started": "2023-12-19T10:25:46.449849Z"
    }
   },
   "outputs": [
    {
     "data": {
      "text/plain": [
       "User ID                    0\n",
       "Instagram visit score      0\n",
       "Spending_rank(0 to 100)    0\n",
       "dtype: int64"
      ]
     },
     "execution_count": 8,
     "metadata": {},
     "output_type": "execute_result"
    }
   ],
   "source": [
    "df.isnull().sum()"
   ]
  },
  {
   "cell_type": "code",
   "execution_count": 9,
   "metadata": {
    "execution": {
     "iopub.execute_input": "2023-12-19T10:25:51.281655Z",
     "iopub.status.busy": "2023-12-19T10:25:51.281192Z",
     "iopub.status.idle": "2023-12-19T10:25:51.300720Z",
     "shell.execute_reply": "2023-12-19T10:25:51.299326Z",
     "shell.execute_reply.started": "2023-12-19T10:25:51.281606Z"
    }
   },
   "outputs": [
    {
     "name": "stdout",
     "output_type": "stream",
     "text": [
      "<class 'pandas.core.frame.DataFrame'>\n",
      "RangeIndex: 2600 entries, 0 to 2599\n",
      "Data columns (total 3 columns):\n",
      " #   Column                   Non-Null Count  Dtype  \n",
      "---  ------                   --------------  -----  \n",
      " 0   User ID                  2600 non-null   int64  \n",
      " 1   Instagram visit score    2600 non-null   int64  \n",
      " 2   Spending_rank(0 to 100)  2600 non-null   float64\n",
      "dtypes: float64(1), int64(2)\n",
      "memory usage: 61.1 KB\n"
     ]
    }
   ],
   "source": [
    "df.info()"
   ]
  },
  {
   "cell_type": "code",
   "execution_count": 11,
   "metadata": {
    "execution": {
     "iopub.execute_input": "2023-12-19T10:26:32.458133Z",
     "iopub.status.busy": "2023-12-19T10:26:32.457686Z",
     "iopub.status.idle": "2023-12-19T10:26:32.467697Z",
     "shell.execute_reply": "2023-12-19T10:26:32.466180Z",
     "shell.execute_reply.started": "2023-12-19T10:26:32.458097Z"
    }
   },
   "outputs": [
    {
     "data": {
      "text/plain": [
       "3378700"
      ]
     },
     "execution_count": 11,
     "metadata": {},
     "output_type": "execute_result"
    }
   ],
   "source": [
    "df[\"User ID\"].sum()"
   ]
  },
  {
   "cell_type": "code",
   "execution_count": 13,
   "metadata": {
    "execution": {
     "iopub.execute_input": "2023-12-19T10:26:42.216719Z",
     "iopub.status.busy": "2023-12-19T10:26:42.216293Z",
     "iopub.status.idle": "2023-12-19T10:26:42.224139Z",
     "shell.execute_reply": "2023-12-19T10:26:42.222698Z",
     "shell.execute_reply.started": "2023-12-19T10:26:42.216688Z"
    }
   },
   "outputs": [
    {
     "data": {
      "text/plain": [
       "(2600, 3)"
      ]
     },
     "execution_count": 13,
     "metadata": {},
     "output_type": "execute_result"
    }
   ],
   "source": [
    "df.shape"
   ]
  },
  {
   "cell_type": "code",
   "execution_count": 14,
   "metadata": {
    "execution": {
     "iopub.execute_input": "2023-12-19T10:27:17.364346Z",
     "iopub.status.busy": "2023-12-19T10:27:17.363901Z",
     "iopub.status.idle": "2023-12-19T10:27:17.372583Z",
     "shell.execute_reply": "2023-12-19T10:27:17.371118Z",
     "shell.execute_reply.started": "2023-12-19T10:27:17.364316Z"
    }
   },
   "outputs": [],
   "source": [
    "#drop useless column\n",
    "df.drop(\"User ID\",axis=1,inplace=True)"
   ]
  },
  {
   "cell_type": "code",
   "execution_count": 15,
   "metadata": {
    "execution": {
     "iopub.execute_input": "2023-12-19T10:27:34.978963Z",
     "iopub.status.busy": "2023-12-19T10:27:34.978498Z",
     "iopub.status.idle": "2023-12-19T10:27:35.786833Z",
     "shell.execute_reply": "2023-12-19T10:27:35.785441Z",
     "shell.execute_reply.started": "2023-12-19T10:27:34.978924Z"
    }
   },
   "outputs": [
    {
     "data": {
      "text/html": [
       "<style type=\"text/css\">\n",
       "#T_1ccb2_row4_col1 {\n",
       "  background-color: lightgreen;\n",
       "}\n",
       "</style>\n",
       "<table id=\"T_1ccb2\">\n",
       "  <thead>\n",
       "    <tr>\n",
       "      <th class=\"blank level0\" >&nbsp;</th>\n",
       "      <th id=\"T_1ccb2_level0_col0\" class=\"col_heading level0 col0\" >Description</th>\n",
       "      <th id=\"T_1ccb2_level0_col1\" class=\"col_heading level0 col1\" >Value</th>\n",
       "    </tr>\n",
       "  </thead>\n",
       "  <tbody>\n",
       "    <tr>\n",
       "      <th id=\"T_1ccb2_level0_row0\" class=\"row_heading level0 row0\" >0</th>\n",
       "      <td id=\"T_1ccb2_row0_col0\" class=\"data row0 col0\" >Session id</td>\n",
       "      <td id=\"T_1ccb2_row0_col1\" class=\"data row0 col1\" >1581</td>\n",
       "    </tr>\n",
       "    <tr>\n",
       "      <th id=\"T_1ccb2_level0_row1\" class=\"row_heading level0 row1\" >1</th>\n",
       "      <td id=\"T_1ccb2_row1_col0\" class=\"data row1 col0\" >Original data shape</td>\n",
       "      <td id=\"T_1ccb2_row1_col1\" class=\"data row1 col1\" >(2600, 2)</td>\n",
       "    </tr>\n",
       "    <tr>\n",
       "      <th id=\"T_1ccb2_level0_row2\" class=\"row_heading level0 row2\" >2</th>\n",
       "      <td id=\"T_1ccb2_row2_col0\" class=\"data row2 col0\" >Transformed data shape</td>\n",
       "      <td id=\"T_1ccb2_row2_col1\" class=\"data row2 col1\" >(2600, 2)</td>\n",
       "    </tr>\n",
       "    <tr>\n",
       "      <th id=\"T_1ccb2_level0_row3\" class=\"row_heading level0 row3\" >3</th>\n",
       "      <td id=\"T_1ccb2_row3_col0\" class=\"data row3 col0\" >Numeric features</td>\n",
       "      <td id=\"T_1ccb2_row3_col1\" class=\"data row3 col1\" >2</td>\n",
       "    </tr>\n",
       "    <tr>\n",
       "      <th id=\"T_1ccb2_level0_row4\" class=\"row_heading level0 row4\" >4</th>\n",
       "      <td id=\"T_1ccb2_row4_col0\" class=\"data row4 col0\" >Preprocess</td>\n",
       "      <td id=\"T_1ccb2_row4_col1\" class=\"data row4 col1\" >True</td>\n",
       "    </tr>\n",
       "    <tr>\n",
       "      <th id=\"T_1ccb2_level0_row5\" class=\"row_heading level0 row5\" >5</th>\n",
       "      <td id=\"T_1ccb2_row5_col0\" class=\"data row5 col0\" >Imputation type</td>\n",
       "      <td id=\"T_1ccb2_row5_col1\" class=\"data row5 col1\" >simple</td>\n",
       "    </tr>\n",
       "    <tr>\n",
       "      <th id=\"T_1ccb2_level0_row6\" class=\"row_heading level0 row6\" >6</th>\n",
       "      <td id=\"T_1ccb2_row6_col0\" class=\"data row6 col0\" >Numeric imputation</td>\n",
       "      <td id=\"T_1ccb2_row6_col1\" class=\"data row6 col1\" >mean</td>\n",
       "    </tr>\n",
       "    <tr>\n",
       "      <th id=\"T_1ccb2_level0_row7\" class=\"row_heading level0 row7\" >7</th>\n",
       "      <td id=\"T_1ccb2_row7_col0\" class=\"data row7 col0\" >Categorical imputation</td>\n",
       "      <td id=\"T_1ccb2_row7_col1\" class=\"data row7 col1\" >mode</td>\n",
       "    </tr>\n",
       "    <tr>\n",
       "      <th id=\"T_1ccb2_level0_row8\" class=\"row_heading level0 row8\" >8</th>\n",
       "      <td id=\"T_1ccb2_row8_col0\" class=\"data row8 col0\" >CPU Jobs</td>\n",
       "      <td id=\"T_1ccb2_row8_col1\" class=\"data row8 col1\" >-1</td>\n",
       "    </tr>\n",
       "    <tr>\n",
       "      <th id=\"T_1ccb2_level0_row9\" class=\"row_heading level0 row9\" >9</th>\n",
       "      <td id=\"T_1ccb2_row9_col0\" class=\"data row9 col0\" >Use GPU</td>\n",
       "      <td id=\"T_1ccb2_row9_col1\" class=\"data row9 col1\" >False</td>\n",
       "    </tr>\n",
       "    <tr>\n",
       "      <th id=\"T_1ccb2_level0_row10\" class=\"row_heading level0 row10\" >10</th>\n",
       "      <td id=\"T_1ccb2_row10_col0\" class=\"data row10 col0\" >Log Experiment</td>\n",
       "      <td id=\"T_1ccb2_row10_col1\" class=\"data row10 col1\" >False</td>\n",
       "    </tr>\n",
       "    <tr>\n",
       "      <th id=\"T_1ccb2_level0_row11\" class=\"row_heading level0 row11\" >11</th>\n",
       "      <td id=\"T_1ccb2_row11_col0\" class=\"data row11 col0\" >Experiment Name</td>\n",
       "      <td id=\"T_1ccb2_row11_col1\" class=\"data row11 col1\" >cluster-default-name</td>\n",
       "    </tr>\n",
       "    <tr>\n",
       "      <th id=\"T_1ccb2_level0_row12\" class=\"row_heading level0 row12\" >12</th>\n",
       "      <td id=\"T_1ccb2_row12_col0\" class=\"data row12 col0\" >USI</td>\n",
       "      <td id=\"T_1ccb2_row12_col1\" class=\"data row12 col1\" >32e2</td>\n",
       "    </tr>\n",
       "  </tbody>\n",
       "</table>\n"
      ],
      "text/plain": [
       "<pandas.io.formats.style.Styler at 0x7ae4c199f970>"
      ]
     },
     "metadata": {},
     "output_type": "display_data"
    },
    {
     "data": {
      "text/plain": [
       "<pycaret.clustering.oop.ClusteringExperiment at 0x7ae4dbdd2c80>"
      ]
     },
     "execution_count": 15,
     "metadata": {},
     "output_type": "execute_result"
    }
   ],
   "source": [
    "#modeling\n",
    "setup(df)"
   ]
  },
  {
   "cell_type": "code",
   "execution_count": 20,
   "metadata": {
    "execution": {
     "iopub.execute_input": "2023-12-19T10:28:09.355933Z",
     "iopub.status.busy": "2023-12-19T10:28:09.355491Z",
     "iopub.status.idle": "2023-12-19T10:28:10.416405Z",
     "shell.execute_reply": "2023-12-19T10:28:10.415082Z",
     "shell.execute_reply.started": "2023-12-19T10:28:09.355899Z"
    }
   },
   "outputs": [
    {
     "data": {
      "text/html": [],
      "text/plain": [
       "<IPython.core.display.HTML object>"
      ]
     },
     "metadata": {},
     "output_type": "display_data"
    },
    {
     "data": {
      "text/html": [
       "<style type=\"text/css\">\n",
       "</style>\n",
       "<table id=\"T_f0e49\">\n",
       "  <thead>\n",
       "    <tr>\n",
       "      <th class=\"blank level0\" >&nbsp;</th>\n",
       "      <th id=\"T_f0e49_level0_col0\" class=\"col_heading level0 col0\" >Silhouette</th>\n",
       "      <th id=\"T_f0e49_level0_col1\" class=\"col_heading level0 col1\" >Calinski-Harabasz</th>\n",
       "      <th id=\"T_f0e49_level0_col2\" class=\"col_heading level0 col2\" >Davies-Bouldin</th>\n",
       "      <th id=\"T_f0e49_level0_col3\" class=\"col_heading level0 col3\" >Homogeneity</th>\n",
       "      <th id=\"T_f0e49_level0_col4\" class=\"col_heading level0 col4\" >Rand Index</th>\n",
       "      <th id=\"T_f0e49_level0_col5\" class=\"col_heading level0 col5\" >Completeness</th>\n",
       "    </tr>\n",
       "  </thead>\n",
       "  <tbody>\n",
       "    <tr>\n",
       "      <th id=\"T_f0e49_level0_row0\" class=\"row_heading level0 row0\" >0</th>\n",
       "      <td id=\"T_f0e49_row0_col0\" class=\"data row0 col0\" >0.6468</td>\n",
       "      <td id=\"T_f0e49_row0_col1\" class=\"data row0 col1\" >6968.6498</td>\n",
       "      <td id=\"T_f0e49_row0_col2\" class=\"data row0 col2\" >0.4658</td>\n",
       "      <td id=\"T_f0e49_row0_col3\" class=\"data row0 col3\" >0</td>\n",
       "      <td id=\"T_f0e49_row0_col4\" class=\"data row0 col4\" >0</td>\n",
       "      <td id=\"T_f0e49_row0_col5\" class=\"data row0 col5\" >0</td>\n",
       "    </tr>\n",
       "  </tbody>\n",
       "</table>\n"
      ],
      "text/plain": [
       "<pandas.io.formats.style.Styler at 0x7ae4db64dcf0>"
      ]
     },
     "metadata": {},
     "output_type": "display_data"
    },
    {
     "data": {
      "application/vnd.jupyter.widget-view+json": {
       "model_id": "",
       "version_major": 2,
       "version_minor": 0
      },
      "text/plain": [
       "Processing:   0%|          | 0/3 [00:00<?, ?it/s]"
      ]
     },
     "metadata": {},
     "output_type": "display_data"
    }
   ],
   "source": [
    "kmeans = create_model('kmeans', 4)"
   ]
  },
  {
   "cell_type": "code",
   "execution_count": 21,
   "metadata": {
    "execution": {
     "iopub.execute_input": "2023-12-19T10:28:10.419202Z",
     "iopub.status.busy": "2023-12-19T10:28:10.418365Z",
     "iopub.status.idle": "2023-12-19T10:28:11.851769Z",
     "shell.execute_reply": "2023-12-19T10:28:11.850582Z",
     "shell.execute_reply.started": "2023-12-19T10:28:10.419133Z"
    }
   },
   "outputs": [
    {
     "data": {
      "text/html": [],
      "text/plain": [
       "<IPython.core.display.HTML object>"
      ]
     },
     "metadata": {},
     "output_type": "display_data"
    },
    {
     "data": {
      "image/png": "[encoded data removed]",
      "text/plain": [
       "<Figure size 800x550 with 1 Axes>"
      ]
     },
     "metadata": {},
     "output_type": "display_data"
    }
   ],
   "source": [
    "plot_model(kmeans, plot='elbow')"
   ]
  },
  {
   "cell_type": "code",
   "execution_count": 22,
   "metadata": {
    "execution": {
     "iopub.execute_input": "2023-12-19T10:30:02.560484Z",
     "iopub.status.busy": "2023-12-19T10:30:02.559902Z",
     "iopub.status.idle": "2023-12-19T10:30:02.567402Z",
     "shell.execute_reply": "2023-12-19T10:30:02.565458Z",
     "shell.execute_reply.started": "2023-12-19T10:30:02.560447Z"
    }
   },
   "outputs": [],
   "source": [
    "#sources"
   ]
  },
  {
   "cell_type": "markdown",
   "metadata": {},
   "source": [
    "Zafer Acar notes"
   ]
  }
 ],
 "metadata": {
  "kaggle": {
   "accelerator": "none",
   "dataSources": [
    {
     "datasetId": 1164895,
     "sourceId": 1951807,
     "sourceType": "datasetVersion"
    }
   ],
   "dockerImageVersionId": 30626,
   "isGpuEnabled": false,
   "isInternetEnabled": true,
   "language": "python",
   "sourceType": "notebook"
  },
  "kernelspec": {
   "display_name": "Python 3 (ipykernel)",
   "language": "python",
   "name": "python3"
  },
  "language_info": {
   "codemirror_mode": {
    "name": "ipython",
    "version": 3
   },
   "file_extension": ".py",
   "mimetype": "text/x-python",
   "name": "python",
   "nbconvert_exporter": "python",
   "pygments_lexer": "ipython3",
   "version": "3.9.13"
  }
 },
 "nbformat": 4,
 "nbformat_minor": 4
}
